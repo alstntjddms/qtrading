{
 "cells": [
  {
   "cell_type": "code",
   "execution_count": 1,
   "metadata": {},
   "outputs": [],
   "source": [
    "%matplotlib inline"
   ]
  },
  {
   "cell_type": "code",
   "execution_count": 3,
   "metadata": {
    "scrolled": false
   },
   "outputs": [
    {
     "name": "stdout",
     "output_type": "stream",
     "text": [
      "--------------------------------\n",
      "test Total Profit: $55324.51\n",
      "--------------------------------\n"
     ]
    }
   ],
   "source": [
    "import torch\n",
    "import numpy as np\n",
    "\n",
    "from agent.agent import Agent\n",
    "from functions import *\n",
    "\n",
    "stock_name = 'test'\n",
    "window_size = 10\n",
    "\n",
    "agent = Agent(window_size, True)\n",
    "data = getStockDataVec(stock_name)\n",
    "l = len(data) - 1\n",
    "batch_size = 32\n",
    "\n",
    "state = getState(data, 0, window_size + 1)\n",
    "total_profit = 0\n",
    "agent.inventory = []\n",
    "closes = []\n",
    "buys = []\n",
    "sells = []\n",
    "capital = 100000\n",
    "\n",
    "for t in range(l):\n",
    "    action = agent.act(state)\n",
    "    closes.append(data[t])\n",
    "\n",
    "    # sit\n",
    "    next_state = getState(data, t + 1, window_size + 1)\n",
    "    reward = 0\n",
    "\n",
    "    if action == 1: # buy\n",
    "        if capital > data[t]:\n",
    "            agent.inventory.append(data[t])\n",
    "            buys.append(data[t])\n",
    "            sells.append(None)\n",
    "            capital -= data[t]\n",
    "        else:\n",
    "            buys.append(None)\n",
    "            sells.append(None)\n",
    "\n",
    "    elif action == 2: # sell\n",
    "        if len(agent.inventory) > 0:\n",
    "            bought_price = agent.inventory.pop(0)\n",
    "            reward = max(data[t] - bought_price, 0)\n",
    "            total_profit += data[t] - bought_price\n",
    "            buys.append(None)\n",
    "            sells.append(data[t])\n",
    "            capital += data[t]\n",
    "        else:\n",
    "            buys.append(None)\n",
    "            sells.append(None)\n",
    "    elif action == 0:\n",
    "        buys.append(None)\n",
    "        sells.append(None)\n",
    "\n",
    "    done = True if t == l - 1 else False\n",
    "    agent.memory.push(state, action, next_state, reward)\n",
    "    state = next_state\n",
    "\n",
    "    if done:\n",
    "        print(\"--------------------------------\")\n",
    "        print(stock_name + \" Total Profit: \" + formatPrice(total_profit))\n",
    "        print(\"--------------------------------\")\n"
   ]
  },
  {
   "cell_type": "code",
   "execution_count": null,
   "metadata": {},
   "outputs": [],
   "source": [
    "import matplotlib.pyplot as plt\n",
    "import numpy as np\n",
    "\n",
    "\n",
    "x_data = range(l)\n",
    "\n",
    "# From here the plotting starts\n",
    "\n",
    "plt.figure(figsize=(10, 10))\n",
    "plt.plot(x_data, closes)\n",
    "plt.plot(x_data, buys, marker='o', markersize=8, markerfacecolor='r')\n",
    "plt.plot(x_data, sells, marker='o', markersize=8, )\n",
    "plt.title(stock_name)\n",
    "plt.legend(['close', 'buy', 'sell'], loc='upper left')\n",
    "plt.show()"
   ]
  },
  {
   "cell_type": "code",
   "execution_count": null,
   "metadata": {},
   "outputs": [],
   "source": []
  }
 ],
 "metadata": {
  "kernelspec": {
   "display_name": "aiffel",
   "language": "python",
   "name": "aiffel"
  },
  "language_info": {
   "codemirror_mode": {
    "name": "ipython",
    "version": 3
   },
   "file_extension": ".py",
   "mimetype": "text/x-python",
   "name": "python",
   "nbconvert_exporter": "python",
   "pygments_lexer": "ipython3",
   "version": "3.7.11"
  }
 },
 "nbformat": 4,
 "nbformat_minor": 2
}
